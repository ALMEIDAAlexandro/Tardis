{
 "cells": [
  {
   "cell_type": "markdown",
   "id": "69821712",
   "metadata": {},
   "source": [
    "# 📊 Modélisation du retard des trains avec RandomForest"
   ]
  },
  {
   "cell_type": "markdown",
   "id": "716372b6",
   "metadata": {},
   "source": [
    "## 1. 🧹 Chargement et nettoyage des données"
   ]
  },
  {
   "cell_type": "code",
   "execution_count": 63,
   "id": "5929cb9e",
   "metadata": {},
   "outputs": [],
   "source": [
    "import pandas as pd\n",
    "import numpy as np\n",
    "import matplotlib.pyplot as plt\n",
    "from sklearn.ensemble import RandomForestRegressor\n",
    "from xgboost import XGBRegressor\n",
    "from sklearn.model_selection import train_test_split\n",
    "from sklearn.metrics import r2_score, mean_absolute_error\n",
    "from sklearn.preprocessing import OneHotEncoder, StandardScaler\n",
    "from sklearn.compose import ColumnTransformer\n",
    "from sklearn.pipeline import Pipeline\n",
    "import joblib\n",
    "\n",
    "# Chargement des données\n",
    "df = pd.read_csv(\"cleaned_dataset.csv\", sep=\";\")"
   ]
  },
  {
   "cell_type": "markdown",
   "id": "5313ed57",
   "metadata": {},
   "source": [
    "## 2. 🏗️ Feature Engineering"
   ]
  },
  {
   "cell_type": "code",
   "execution_count": null,
   "id": "fab919f2",
   "metadata": {},
   "outputs": [],
   "source": [
    "df[\"total_delay_points\"] = (\n",
    "    df[\"trains_delayed_15min\"]\n",
    "    + 2 * df[\"trains_delayed_30min\"]\n",
    "    + 4 * df[\"trains_delayed_60min\"]\n",
    ")\n",
    "df[\"quarter\"] = pd.to_datetime(df[\"date\"]).dt.quarter\n",
    "df[\"is_major_arrival\"] = (\n",
    "    df[\"arrival_station\"]\n",
    "    .isin(df[\"arrival_station\"].value_counts().head(10).index)\n",
    "    .astype(int)\n",
    ")\n",
    "\n",
    "df[\"delay_ratio\"] = df[\"avg_arr_delay\"] / (df[\"avg_dep_delay\"] + 0.1)"
   ]
  },
  {
   "cell_type": "markdown",
   "id": "e66a2c49",
   "metadata": {},
   "source": [
    "## 3. 📦 Définition des features et de la cible"
   ]
  },
  {
   "cell_type": "code",
   "execution_count": null,
   "id": "e48098e3",
   "metadata": {},
   "outputs": [],
   "source": [
    "features = [\n",
    "    \"route\",\n",
    "    \"avg_dep_delay\",\n",
    "    \"total_delay_points\",\n",
    "    \"trains_delayed_30min\",\n",
    "    \"trains_delayed_60min\",\n",
    "    \"trains_delayed_15min\",\n",
    "    \"cancelled_trains\",\n",
    "    \"month\",\n",
    "    \"delay_ratio\",\n",
    "    \"quarter\",\n",
    "    \"is_major_arrival\",\n",
    "    \"pct_delay_external\",\n",
    "]\n",
    "\n",
    "# Nettoyage des données\n",
    "df = df.dropna(subset=[\"avg_arr_delay\"] + features)\n",
    "df = df[(df[\"avg_arr_delay\"] >= 0) & (df[\"avg_arr_delay\"] <= 30)]  # Filtre réaliste\n",
    "\n",
    "# Préparation des données\n",
    "X = df[features]\n",
    "y = df[\"avg_arr_delay\"]"
   ]
  },
  {
   "cell_type": "markdown",
   "id": "a657fded",
   "metadata": {},
   "source": [
    "## 4. ✂️ Séparation des données"
   ]
  },
  {
   "cell_type": "code",
   "execution_count": 66,
   "id": "e3d0c954",
   "metadata": {},
   "outputs": [],
   "source": [
    "X_train, X_test, y_train, y_test = train_test_split(\n",
    "    X, y, test_size=0.14, random_state=42\n",
    ")"
   ]
  },
  {
   "cell_type": "markdown",
   "id": "90001985",
   "metadata": {},
   "source": [
    "## 5. 🧪 Prétraitement"
   ]
  },
  {
   "cell_type": "code",
   "execution_count": 67,
   "id": "b38ddef0",
   "metadata": {},
   "outputs": [],
   "source": [
    "preprocessor = ColumnTransformer(\n",
    "    transformers=[\n",
    "        (\"cat\", OneHotEncoder(handle_unknown=\"ignore\"), [\"route\"]),\n",
    "        (\n",
    "            \"num\",\n",
    "            StandardScaler(),\n",
    "            [\n",
    "                \"avg_dep_delay\",\n",
    "                \"total_delay_points\",\n",
    "                \"trains_delayed_15min\",\n",
    "                \"trains_delayed_30min\",\n",
    "                \"trains_delayed_60min\",\n",
    "            ],\n",
    "        ),\n",
    "    ],\n",
    "    remainder=\"passthrough\",\n",
    ")"
   ]
  },
  {
   "cell_type": "markdown",
   "id": "a702a7b1",
   "metadata": {},
   "source": [
    "## 6. 🌳 Création du modèle RandomForest"
   ]
  },
  {
   "cell_type": "code",
   "execution_count": 68,
   "id": "c4686d70",
   "metadata": {},
   "outputs": [],
   "source": [
    "rf_model = Pipeline(\n",
    "    [\n",
    "        (\"preprocessor\", preprocessor),\n",
    "        (\n",
    "            \"regressor\",\n",
    "            RandomForestRegressor(\n",
    "                n_estimators=300,\n",
    "                max_depth=10,\n",
    "                min_samples_split=5,\n",
    "                max_features=\"sqrt\",\n",
    "                random_state=42,\n",
    "                n_jobs=-1,\n",
    "            ),\n",
    "        ),\n",
    "    ]\n",
    ")"
   ]
  },
  {
   "cell_type": "markdown",
   "id": "c63d0412",
   "metadata": {},
   "source": [
    "## 7. 🏋️ Entraînement du modèle"
   ]
  },
  {
   "cell_type": "code",
   "execution_count": 69,
   "id": "4cbfc282",
   "metadata": {},
   "outputs": [],
   "source": [
    "rf_model.fit(X_train, y_train)\n",
    "y_pred_rf = rf_model.predict(X_test)"
   ]
  },
  {
   "cell_type": "markdown",
   "id": "1495170b",
   "metadata": {},
   "source": [
    "## 8. 🌳 Optimisation pour le modèle XGBoost"
   ]
  },
  {
   "cell_type": "code",
   "execution_count": 70,
   "id": "e6f84d8f",
   "metadata": {},
   "outputs": [],
   "source": [
    "xgb_model = Pipeline(\n",
    "    [\n",
    "        (\"preprocessor\", preprocessor),\n",
    "        (\n",
    "            \"regressor\",\n",
    "            XGBRegressor(\n",
    "                n_estimators=500,\n",
    "                max_depth=5,\n",
    "                learning_rate=0.1,\n",
    "                subsample=0.8,\n",
    "                colsample_bytree=0.8,\n",
    "                random_state=42,\n",
    "                n_jobs=-1,\n",
    "            ),\n",
    "        ),\n",
    "    ]\n",
    ")"
   ]
  },
  {
   "cell_type": "markdown",
   "id": "288a4c3e",
   "metadata": {},
   "source": [
    "## 9. 🏋️ Entraînement du modèle"
   ]
  },
  {
   "cell_type": "code",
   "execution_count": 71,
   "id": "569a5176",
   "metadata": {},
   "outputs": [],
   "source": [
    "xgb_model.fit(X_train, y_train)\n",
    "y_pred_xgb = xgb_model.predict(X_test)"
   ]
  },
  {
   "cell_type": "markdown",
   "id": "8038c7a3",
   "metadata": {},
   "source": [
    "## 10. 📍 Affichage des graphiques de résultat des modèles"
   ]
  },
  {
   "cell_type": "code",
   "execution_count": null,
   "id": "8d92382c",
   "metadata": {},
   "outputs": [],
   "source": [
    "# Création des DataFrames pour les visualisations\n",
    "results_df = pd.DataFrame(\n",
    "    {\n",
    "        \"month\": X_test[\"month\"],\n",
    "        \"real_delay\": y_test,\n",
    "        \"rf_pred\": y_pred_rf,\n",
    "        \"xgb_pred\": y_pred_xgb,\n",
    "    }\n",
    ")\n",
    "\n",
    "# Calcul des moyennes mensuelles\n",
    "monthly_means = results_df.groupby(\"month\").mean().reset_index()\n",
    "\n",
    "# Visualisation pour RandomForest\n",
    "plt.figure(figsize=(12, 6))\n",
    "plt.plot(\n",
    "    monthly_means[\"month\"], monthly_means[\"real_delay\"], \"o-\", label=\"Réel\", linewidth=2\n",
    ")\n",
    "plt.plot(\n",
    "    monthly_means[\"month\"],\n",
    "    monthly_means[\"rf_pred\"],\n",
    "    \"s--\",\n",
    "    label=\"RandomForest\",\n",
    "    linewidth=2,\n",
    ")\n",
    "plt.xlabel(\"Mois\")\n",
    "plt.ylabel(\"Retard moyen (minutes)\")\n",
    "plt.title(\"Comparaison des retards réels et prédits (RandomForest) par mois\")\n",
    "plt.xticks(\n",
    "    range(1, 13),\n",
    "    [\n",
    "        \"Jan\",\n",
    "        \"Fév\",\n",
    "        \"Mar\",\n",
    "        \"Avr\",\n",
    "        \"Mai\",\n",
    "        \"Jun\",\n",
    "        \"Jul\",\n",
    "        \"Aoû\",\n",
    "        \"Sep\",\n",
    "        \"Oct\",\n",
    "        \"Nov\",\n",
    "        \"Déc\",\n",
    "    ],\n",
    ")\n",
    "plt.grid(True, linestyle=\"--\", alpha=0.7)\n",
    "plt.legend()\n",
    "plt.show()\n",
    "\n",
    "# Visualisation pour XGBoost\n",
    "plt.figure(figsize=(12, 6))\n",
    "plt.plot(\n",
    "    monthly_means[\"month\"], monthly_means[\"real_delay\"], \"o-\", label=\"Réel\", linewidth=2\n",
    ")\n",
    "plt.plot(\n",
    "    monthly_means[\"month\"],\n",
    "    monthly_means[\"xgb_pred\"],\n",
    "    \"s--\",\n",
    "    label=\"XGBoost\",\n",
    "    linewidth=2,\n",
    ")\n",
    "plt.xlabel(\"Mois\")\n",
    "plt.ylabel(\"Retard moyen (minutes)\")\n",
    "plt.title(\"Comparaison des retards réels et prédits (XGBoost) par mois\")\n",
    "plt.xticks(\n",
    "    range(1, 13),\n",
    "    [\n",
    "        \"Jan\",\n",
    "        \"Fév\",\n",
    "        \"Mar\",\n",
    "        \"Avr\",\n",
    "        \"Mai\",\n",
    "        \"Jun\",\n",
    "        \"Jul\",\n",
    "        \"Aoû\",\n",
    "        \"Sep\",\n",
    "        \"Oct\",\n",
    "        \"Nov\",\n",
    "        \"Déc\",\n",
    "    ],\n",
    ")\n",
    "plt.grid(True, linestyle=\"--\", alpha=0.7)\n",
    "plt.legend()\n",
    "plt.show()"
   ]
  },
  {
   "cell_type": "markdown",
   "id": "3fcf5faa",
   "metadata": {},
   "source": [
    "## 11. 📊 Évaluation des modèles"
   ]
  },
  {
   "cell_type": "code",
   "execution_count": null,
   "id": "6d893ae5",
   "metadata": {},
   "outputs": [],
   "source": [
    "print(\"=== RandomForest ===\")\n",
    "print(f\"R²: {r2_score(y_test, y_pred_rf):.3f}\")\n",
    "print(f\"MAE: {mean_absolute_error(y_test, y_pred_rf):.2f} min\")\n",
    "\n",
    "print(\"\\n=== XGBoost ===\")\n",
    "print(f\"R²: {r2_score(y_test, y_pred_xgb):.3f}\")\n",
    "print(f\"MAE: {mean_absolute_error(y_test, y_pred_xgb):.2f} min\")"
   ]
  },
  {
   "cell_type": "markdown",
   "id": "05f9c62e",
   "metadata": {},
   "source": [
    "## 12. 💾 Sauvegarde du modèle"
   ]
  },
  {
   "cell_type": "code",
   "execution_count": null,
   "id": "9accb8fd",
   "metadata": {},
   "outputs": [],
   "source": [
    "joblib.dump(xgb_model, \"tardis_best_model.pkl\")\n",
    "print(\"\\n✅ Modèles sauvegardés\")"
   ]
  }
 ],
 "metadata": {
  "kernelspec": {
   "display_name": "Python 3",
   "language": "python",
   "name": "python3"
  },
  "language_info": {
   "codemirror_mode": {
    "name": "ipython",
    "version": 3
   },
   "file_extension": ".py",
   "mimetype": "text/x-python",
   "name": "python",
   "nbconvert_exporter": "python",
   "pygments_lexer": "ipython3",
   "version": "3.12.3"
  }
 },
 "nbformat": 4,
 "nbformat_minor": 5
}
